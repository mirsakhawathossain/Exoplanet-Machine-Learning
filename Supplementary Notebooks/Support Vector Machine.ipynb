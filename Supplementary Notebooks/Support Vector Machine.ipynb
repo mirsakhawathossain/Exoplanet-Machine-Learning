{
 "cells": [
  {
   "cell_type": "code",
   "execution_count": 1,
   "id": "7b675b6f-b09e-4e92-9ad1-19e0d78375c8",
   "metadata": {
    "execution": {
     "iopub.execute_input": "2023-08-03T04:17:51.714387Z",
     "iopub.status.busy": "2023-08-03T04:17:51.713412Z",
     "iopub.status.idle": "2023-08-03T04:17:53.007758Z",
     "shell.execute_reply": "2023-08-03T04:17:53.005326Z",
     "shell.execute_reply.started": "2023-08-03T04:17:51.714227Z"
    }
   },
   "outputs": [],
   "source": [
    "import numpy as np\n",
    "from sklearn.svm import SVC\n",
    "from sklearn.metrics import accuracy_score, classification_report"
   ]
  },
  {
   "cell_type": "code",
   "execution_count": 2,
   "id": "de453cc9-0cbb-44fa-ab4e-4e242f8dc94c",
   "metadata": {
    "execution": {
     "iopub.execute_input": "2023-08-03T04:17:54.994717Z",
     "iopub.status.busy": "2023-08-03T04:17:54.993489Z",
     "iopub.status.idle": "2023-08-03T04:17:55.223262Z",
     "shell.execute_reply": "2023-08-03T04:17:55.220827Z",
     "shell.execute_reply.started": "2023-08-03T04:17:54.994619Z"
    }
   },
   "outputs": [],
   "source": [
    "X_train = np.load('/home/idies/workspace/Storage/s.hossain18/Permanent/PCA_Robust/X_train_pca.npy')\n",
    "X_test = np.load('/home/idies/workspace/Storage/s.hossain18/Permanent/PCA_Robust/X_test_pca.npy')\n",
    "y_train = np.load('/home/idies/workspace/Storage/s.hossain18/Permanent/PCA_Robust/y_train.npy')\n",
    "y_test = np.load('/home/idies/workspace/Storage/s.hossain18/Permanent/PCA_Robust/y_test.npy')"
   ]
  },
  {
   "cell_type": "code",
   "execution_count": null,
   "id": "557d17fe-61b3-4be0-bff1-0f94ca7752f1",
   "metadata": {
    "execution": {
     "iopub.execute_input": "2023-08-03T04:17:56.591044Z",
     "iopub.status.busy": "2023-08-03T04:17:56.590066Z"
    }
   },
   "outputs": [
    {
     "name": "stderr",
     "output_type": "stream",
     "text": [
      "/home/idies/mambaforge/envs/py39/lib/python3.9/site-packages/sklearn/utils/validation.py:1184: DataConversionWarning: A column-vector y was passed when a 1d array was expected. Please change the shape of y to (n_samples, ), for example using ravel().\n",
      "  y = column_or_1d(y, warn=True)\n"
     ]
    }
   ],
   "source": [
    "svm_classifier = SVC(kernel='linear', C=1.0)  # You can experiment with different kernels and C values\n",
    "svm_classifier.fit(X_train, y_train)"
   ]
  },
  {
   "cell_type": "code",
   "execution_count": null,
   "id": "1cde75b7-7e29-46e6-8bc7-ac7346ba97e2",
   "metadata": {},
   "outputs": [],
   "source": [
    "y_pred = svm_classifier.predict(X_test)"
   ]
  },
  {
   "cell_type": "code",
   "execution_count": null,
   "id": "1ca55bf4-544d-411c-9565-1ce3c3c15a15",
   "metadata": {},
   "outputs": [],
   "source": [
    "accuracy = accuracy_score(y_test, y_pred)\n",
    "print(f\"Accuracy: {accuracy}\")\n",
    "\n",
    "classification_rep = classification_report(y_test, y_pred)\n",
    "print(\"Classification Report:\")\n",
    "print(classification_rep)"
   ]
  },
  {
   "cell_type": "code",
   "execution_count": null,
   "id": "bc710dc5-42a0-4021-b5f2-6e335c30eb08",
   "metadata": {},
   "outputs": [],
   "source": []
  }
 ],
 "metadata": {
  "kernelspec": {
   "display_name": "Python 3.9 (py39)",
   "language": "python",
   "name": "py39"
  },
  "language_info": {
   "codemirror_mode": {
    "name": "ipython",
    "version": 3
   },
   "file_extension": ".py",
   "mimetype": "text/x-python",
   "name": "python",
   "nbconvert_exporter": "python",
   "pygments_lexer": "ipython3",
   "version": "3.9.13"
  }
 },
 "nbformat": 4,
 "nbformat_minor": 5
}
