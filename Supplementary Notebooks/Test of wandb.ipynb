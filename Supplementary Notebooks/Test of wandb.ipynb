{
 "cells": [
  {
   "cell_type": "code",
   "execution_count": 1,
   "id": "df45a244-4651-464e-9762-52e715c74a28",
   "metadata": {
    "execution": {
     "iopub.execute_input": "2023-08-13T14:50:26.067197Z",
     "iopub.status.busy": "2023-08-13T14:50:26.066005Z",
     "iopub.status.idle": "2023-08-13T14:50:32.600298Z",
     "shell.execute_reply": "2023-08-13T14:50:32.597489Z",
     "shell.execute_reply.started": "2023-08-13T14:50:26.066940Z"
    }
   },
   "outputs": [
    {
     "name": "stdout",
     "output_type": "stream",
     "text": [
      "Requirement already satisfied: scikit-learn in /home/idies/mambaforge/envs/py39/lib/python3.9/site-packages (1.3.0)\n",
      "Requirement already satisfied: threadpoolctl>=2.0.0 in /home/idies/mambaforge/envs/py39/lib/python3.9/site-packages (from scikit-learn) (3.2.0)\n",
      "Requirement already satisfied: scipy>=1.5.0 in /home/idies/mambaforge/envs/py39/lib/python3.9/site-packages (from scikit-learn) (1.9.3)\n",
      "Requirement already satisfied: numpy>=1.17.3 in /home/idies/mambaforge/envs/py39/lib/python3.9/site-packages (from scikit-learn) (1.23.4)\n",
      "Requirement already satisfied: joblib>=1.1.1 in /home/idies/mambaforge/envs/py39/lib/python3.9/site-packages (from scikit-learn) (1.3.1)\n"
     ]
    }
   ],
   "source": [
    "import sys\n",
    "!{sys.executable} -m pip install scikit-learn"
   ]
  },
  {
   "cell_type": "code",
   "execution_count": 2,
   "id": "9bcaa603-5134-45da-ab94-26da29c28e3e",
   "metadata": {
    "execution": {
     "iopub.execute_input": "2023-08-13T14:50:32.605517Z",
     "iopub.status.busy": "2023-08-13T14:50:32.604897Z",
     "iopub.status.idle": "2023-08-13T14:50:56.751775Z",
     "shell.execute_reply": "2023-08-13T14:50:56.749005Z",
     "shell.execute_reply.started": "2023-08-13T14:50:32.605436Z"
    }
   },
   "outputs": [
    {
     "name": "stdout",
     "output_type": "stream",
     "text": [
      "Collecting xgboost\n",
      "  Downloading xgboost-1.7.6-py3-none-manylinux2014_x86_64.whl (200.3 MB)\n",
      "\u001b[2K     \u001b[90m━━━━━━━━━━━━━━━━━━━━━━━━━━━━━━━━━━━━━━━\u001b[0m \u001b[32m200.3/200.3 MB\u001b[0m \u001b[31m2.2 MB/s\u001b[0m eta \u001b[36m0:00:00\u001b[0m00:01\u001b[0m00:01\u001b[0m\n",
      "\u001b[?25hRequirement already satisfied: numpy in /home/idies/mambaforge/envs/py39/lib/python3.9/site-packages (from xgboost) (1.23.4)\n",
      "Requirement already satisfied: scipy in /home/idies/mambaforge/envs/py39/lib/python3.9/site-packages (from xgboost) (1.9.3)\n",
      "Installing collected packages: xgboost\n",
      "Successfully installed xgboost-1.7.6\n"
     ]
    }
   ],
   "source": [
    "import sys\n",
    "!{sys.executable} -m pip install xgboost"
   ]
  },
  {
   "cell_type": "code",
   "execution_count": 5,
   "id": "8dc10455-813a-4d44-9261-13de6d94132b",
   "metadata": {
    "execution": {
     "iopub.execute_input": "2023-08-13T14:51:18.377905Z",
     "iopub.status.busy": "2023-08-13T14:51:18.377226Z",
     "iopub.status.idle": "2023-08-13T14:51:23.709720Z",
     "shell.execute_reply": "2023-08-13T14:51:23.706882Z",
     "shell.execute_reply.started": "2023-08-13T14:51:18.377820Z"
    }
   },
   "outputs": [
    {
     "name": "stdout",
     "output_type": "stream",
     "text": [
      "Requirement already satisfied: scikit-optimize in /home/idies/mambaforge/envs/py39/lib/python3.9/site-packages (0.9.0)\n",
      "Requirement already satisfied: joblib>=0.11 in /home/idies/mambaforge/envs/py39/lib/python3.9/site-packages (from scikit-optimize) (1.3.1)\n",
      "Requirement already satisfied: scikit-learn>=0.20.0 in /home/idies/mambaforge/envs/py39/lib/python3.9/site-packages (from scikit-optimize) (1.3.0)\n",
      "Requirement already satisfied: scipy>=0.19.1 in /home/idies/mambaforge/envs/py39/lib/python3.9/site-packages (from scikit-optimize) (1.9.3)\n",
      "Requirement already satisfied: numpy>=1.13.3 in /home/idies/mambaforge/envs/py39/lib/python3.9/site-packages (from scikit-optimize) (1.23.4)\n",
      "Requirement already satisfied: pyaml>=16.9 in /home/idies/mambaforge/envs/py39/lib/python3.9/site-packages (from scikit-optimize) (23.7.0)\n",
      "Requirement already satisfied: PyYAML in /home/idies/mambaforge/envs/py39/lib/python3.9/site-packages (from pyaml>=16.9->scikit-optimize) (6.0)\n",
      "Requirement already satisfied: threadpoolctl>=2.0.0 in /home/idies/mambaforge/envs/py39/lib/python3.9/site-packages (from scikit-learn>=0.20.0->scikit-optimize) (3.2.0)\n"
     ]
    }
   ],
   "source": [
    "import sys\n",
    "!{sys.executable} -m pip install scikit-optimize"
   ]
  },
  {
   "cell_type": "code",
   "execution_count": 6,
   "id": "9cefb324-d94c-4de7-ae63-25c6ba176aa3",
   "metadata": {
    "execution": {
     "iopub.execute_input": "2023-08-13T14:51:23.714569Z",
     "iopub.status.busy": "2023-08-13T14:51:23.713928Z",
     "iopub.status.idle": "2023-08-13T14:51:29.101294Z",
     "shell.execute_reply": "2023-08-13T14:51:29.098400Z",
     "shell.execute_reply.started": "2023-08-13T14:51:23.714488Z"
    }
   },
   "outputs": [
    {
     "name": "stdout",
     "output_type": "stream",
     "text": [
      "Requirement already satisfied: wandb in /home/idies/mambaforge/envs/py39/lib/python3.9/site-packages (0.15.8)\n",
      "Requirement already satisfied: pathtools in /home/idies/mambaforge/envs/py39/lib/python3.9/site-packages (from wandb) (0.1.2)\n",
      "Requirement already satisfied: Click!=8.0.0,>=7.1 in /home/idies/mambaforge/envs/py39/lib/python3.9/site-packages (from wandb) (8.1.3)\n",
      "Requirement already satisfied: PyYAML in /home/idies/mambaforge/envs/py39/lib/python3.9/site-packages (from wandb) (6.0)\n",
      "Requirement already satisfied: requests<3,>=2.0.0 in /home/idies/mambaforge/envs/py39/lib/python3.9/site-packages (from wandb) (2.28.1)\n",
      "Requirement already satisfied: psutil>=5.0.0 in /home/idies/mambaforge/envs/py39/lib/python3.9/site-packages (from wandb) (5.9.4)\n",
      "Requirement already satisfied: typing-extensions in /home/idies/mambaforge/envs/py39/lib/python3.9/site-packages (from wandb) (4.4.0)\n",
      "Requirement already satisfied: docker-pycreds>=0.4.0 in /home/idies/mambaforge/envs/py39/lib/python3.9/site-packages (from wandb) (0.4.0)\n",
      "Requirement already satisfied: setuptools in /home/idies/mambaforge/envs/py39/lib/python3.9/site-packages (from wandb) (65.5.1)\n",
      "Requirement already satisfied: appdirs>=1.4.3 in /home/idies/mambaforge/envs/py39/lib/python3.9/site-packages (from wandb) (1.4.4)\n",
      "Requirement already satisfied: setproctitle in /home/idies/mambaforge/envs/py39/lib/python3.9/site-packages (from wandb) (1.3.2)\n",
      "Requirement already satisfied: protobuf!=4.21.0,<5,>=3.15.0 in /home/idies/mambaforge/envs/py39/lib/python3.9/site-packages (from wandb) (3.19.6)\n",
      "Requirement already satisfied: sentry-sdk>=1.0.0 in /home/idies/mambaforge/envs/py39/lib/python3.9/site-packages (from wandb) (1.29.2)\n",
      "Requirement already satisfied: GitPython!=3.1.29,>=1.0.0 in /home/idies/mambaforge/envs/py39/lib/python3.9/site-packages (from wandb) (3.1.32)\n",
      "Requirement already satisfied: six>=1.4.0 in /home/idies/mambaforge/envs/py39/lib/python3.9/site-packages (from docker-pycreds>=0.4.0->wandb) (1.16.0)\n",
      "Requirement already satisfied: gitdb<5,>=4.0.1 in /home/idies/mambaforge/envs/py39/lib/python3.9/site-packages (from GitPython!=3.1.29,>=1.0.0->wandb) (4.0.9)\n",
      "Requirement already satisfied: urllib3<1.27,>=1.21.1 in /home/idies/mambaforge/envs/py39/lib/python3.9/site-packages (from requests<3,>=2.0.0->wandb) (1.26.11)\n",
      "Requirement already satisfied: charset-normalizer<3,>=2 in /home/idies/mambaforge/envs/py39/lib/python3.9/site-packages (from requests<3,>=2.0.0->wandb) (2.1.1)\n",
      "Requirement already satisfied: idna<4,>=2.5 in /home/idies/mambaforge/envs/py39/lib/python3.9/site-packages (from requests<3,>=2.0.0->wandb) (3.4)\n",
      "Requirement already satisfied: certifi>=2017.4.17 in /home/idies/mambaforge/envs/py39/lib/python3.9/site-packages (from requests<3,>=2.0.0->wandb) (2022.12.7)\n",
      "Requirement already satisfied: smmap<6,>=3.0.1 in /home/idies/mambaforge/envs/py39/lib/python3.9/site-packages (from gitdb<5,>=4.0.1->GitPython!=3.1.29,>=1.0.0->wandb) (3.0.5)\n"
     ]
    }
   ],
   "source": [
    "import sys\n",
    "!{sys.executable} -m pip install wandb"
   ]
  },
  {
   "cell_type": "code",
   "execution_count": 7,
   "id": "c590ea67-7a6a-4ea6-a4ad-2a804d6f7835",
   "metadata": {
    "execution": {
     "iopub.execute_input": "2023-08-13T14:51:29.104703Z",
     "iopub.status.busy": "2023-08-13T14:51:29.104033Z",
     "iopub.status.idle": "2023-08-13T14:51:29.115696Z",
     "shell.execute_reply": "2023-08-13T14:51:29.113814Z",
     "shell.execute_reply.started": "2023-08-13T14:51:29.104588Z"
    }
   },
   "outputs": [],
   "source": [
    "import os\n",
    "os.environ['WANDB_API_KEY'] = '09166f4249028d9a37cd7a0c4efb38343a046802'"
   ]
  },
  {
   "cell_type": "code",
   "execution_count": 8,
   "id": "e6da5971-9b57-4d7c-846b-93db2f5d41e1",
   "metadata": {
    "execution": {
     "iopub.execute_input": "2023-08-13T14:51:29.118424Z",
     "iopub.status.busy": "2023-08-13T14:51:29.117875Z",
     "iopub.status.idle": "2023-08-13T14:51:59.337893Z",
     "shell.execute_reply": "2023-08-13T14:51:59.335436Z",
     "shell.execute_reply.started": "2023-08-13T14:51:29.118353Z"
    }
   },
   "outputs": [
    {
     "name": "stderr",
     "output_type": "stream",
     "text": [
      "\u001b[34m\u001b[1mwandb\u001b[0m: Currently logged in as: \u001b[33madrita_khan\u001b[0m. Use \u001b[1m`wandb login --relogin`\u001b[0m to force relogin\n"
     ]
    },
    {
     "data": {
      "text/html": [
       "Tracking run with wandb version 0.15.8"
      ],
      "text/plain": [
       "<IPython.core.display.HTML object>"
      ]
     },
     "metadata": {},
     "output_type": "display_data"
    },
    {
     "data": {
      "text/html": [
       "Run data is saved locally in <code>/home/idies/workspace/Storage/s.hossain18/Permanent/wandb/run-20230813_105135-25mg3aso</code>"
      ],
      "text/plain": [
       "<IPython.core.display.HTML object>"
      ]
     },
     "metadata": {},
     "output_type": "display_data"
    },
    {
     "data": {
      "text/html": [
       "Syncing run <strong><a href='https://wandb.ai/adrita_khan/Exoplanet/runs/25mg3aso' target=\"_blank\">XGBoost Classifier</a></strong> to <a href='https://wandb.ai/adrita_khan/Exoplanet' target=\"_blank\">Weights & Biases</a> (<a href='https://wandb.me/run' target=\"_blank\">docs</a>)<br/>"
      ],
      "text/plain": [
       "<IPython.core.display.HTML object>"
      ]
     },
     "metadata": {},
     "output_type": "display_data"
    },
    {
     "data": {
      "text/html": [
       " View project at <a href='https://wandb.ai/adrita_khan/Exoplanet' target=\"_blank\">https://wandb.ai/adrita_khan/Exoplanet</a>"
      ],
      "text/plain": [
       "<IPython.core.display.HTML object>"
      ]
     },
     "metadata": {},
     "output_type": "display_data"
    },
    {
     "data": {
      "text/html": [
       " View run at <a href='https://wandb.ai/adrita_khan/Exoplanet/runs/25mg3aso' target=\"_blank\">https://wandb.ai/adrita_khan/Exoplanet/runs/25mg3aso</a>"
      ],
      "text/plain": [
       "<IPython.core.display.HTML object>"
      ]
     },
     "metadata": {},
     "output_type": "display_data"
    },
    {
     "data": {
      "text/html": [
       "<button onClick=\"this.nextSibling.style.display='block';this.style.display='none';\">Display W&B run</button><iframe src='https://wandb.ai/adrita_khan/Exoplanet/runs/25mg3aso?jupyter=true' style='border:none;width:100%;height:420px;display:none;'></iframe>"
      ],
      "text/plain": [
       "<wandb.sdk.wandb_run.Run at 0x7f9f4477ea60>"
      ]
     },
     "execution_count": 8,
     "metadata": {},
     "output_type": "execute_result"
    }
   ],
   "source": [
    "import wandb\n",
    "wandb.init(project=\"Exoplanet\", entity=\"adrita_khan\",save_code=True,name='XGBoost Classifier',job_type='analysis',reinit=True)"
   ]
  },
  {
   "cell_type": "code",
   "execution_count": 9,
   "id": "f0b77b26-cfd8-41ba-9290-f1f07b9c994a",
   "metadata": {
    "execution": {
     "iopub.execute_input": "2023-08-13T14:51:59.346584Z",
     "iopub.status.busy": "2023-08-13T14:51:59.345943Z",
     "iopub.status.idle": "2023-08-13T14:51:59.368021Z",
     "shell.execute_reply": "2023-08-13T14:51:59.366073Z",
     "shell.execute_reply.started": "2023-08-13T14:51:59.346501Z"
    }
   },
   "outputs": [],
   "source": [
    "import numpy as np"
   ]
  },
  {
   "cell_type": "code",
   "execution_count": 10,
   "id": "c3b4db4e-76cb-4720-996d-f18fccbe4694",
   "metadata": {
    "execution": {
     "iopub.execute_input": "2023-08-13T14:51:59.370955Z",
     "iopub.status.busy": "2023-08-13T14:51:59.370055Z",
     "iopub.status.idle": "2023-08-13T14:51:59.613649Z",
     "shell.execute_reply": "2023-08-13T14:51:59.611800Z",
     "shell.execute_reply.started": "2023-08-13T14:51:59.370881Z"
    }
   },
   "outputs": [],
   "source": [
    "X_train = np.load('/home/idies/workspace/Storage/s.hossain18/Permanent/PCA_Robust/X_train_pca.npy')\n",
    "X_test = np.load('/home/idies/workspace/Storage/s.hossain18/Permanent/PCA_Robust/X_test_pca.npy')\n",
    "y_train = np.load('/home/idies/workspace/Storage/s.hossain18/Permanent/PCA_Robust/y_train.npy')\n",
    "y_test = np.load('/home/idies/workspace/Storage/s.hossain18/Permanent/PCA_Robust/y_test.npy')"
   ]
  },
  {
   "cell_type": "code",
   "execution_count": 11,
   "id": "8d1a236e-efb9-46af-be80-66bbab957a0d",
   "metadata": {
    "execution": {
     "iopub.execute_input": "2023-08-13T14:51:59.617174Z",
     "iopub.status.busy": "2023-08-13T14:51:59.616553Z",
     "iopub.status.idle": "2023-08-13T14:52:01.315763Z",
     "shell.execute_reply": "2023-08-13T14:52:01.313756Z",
     "shell.execute_reply.started": "2023-08-13T14:51:59.617119Z"
    }
   },
   "outputs": [],
   "source": [
    "from sklearn.model_selection import RepeatedStratifiedKFold\n",
    "cv = RepeatedStratifiedKFold(n_splits=10, n_repeats=10, random_state=41)"
   ]
  },
  {
   "cell_type": "code",
   "execution_count": 12,
   "id": "8d311eaa-c580-42a1-b800-f0d9f965047d",
   "metadata": {
    "execution": {
     "iopub.execute_input": "2023-08-13T14:52:01.319855Z",
     "iopub.status.busy": "2023-08-13T14:52:01.318403Z",
     "iopub.status.idle": "2023-08-13T14:52:03.579342Z",
     "shell.execute_reply": "2023-08-13T14:52:03.577348Z",
     "shell.execute_reply.started": "2023-08-13T14:52:01.319781Z"
    }
   },
   "outputs": [],
   "source": [
    "from skopt import BayesSearchCV\n",
    "import xgboost as xgb"
   ]
  },
  {
   "cell_type": "code",
   "execution_count": 13,
   "id": "38abbca0-2c27-4a67-9e3a-ed043d89a42b",
   "metadata": {
    "execution": {
     "iopub.execute_input": "2023-08-13T14:52:03.582636Z",
     "iopub.status.busy": "2023-08-13T14:52:03.582013Z",
     "iopub.status.idle": "2023-08-13T14:52:03.593580Z",
     "shell.execute_reply": "2023-08-13T14:52:03.591471Z",
     "shell.execute_reply.started": "2023-08-13T14:52:03.582577Z"
    }
   },
   "outputs": [],
   "source": [
    "# Create an instance of the XGBoost classifier\n",
    "xgb_classifier = xgb.XGBClassifier(random_state=43,n_jobs=-1)"
   ]
  },
  {
   "cell_type": "code",
   "execution_count": 14,
   "id": "93858814-83e3-4138-aafa-3b108d2ad619",
   "metadata": {
    "execution": {
     "iopub.execute_input": "2023-08-13T14:52:03.596264Z",
     "iopub.status.busy": "2023-08-13T14:52:03.595630Z",
     "iopub.status.idle": "2023-08-13T14:52:03.609483Z",
     "shell.execute_reply": "2023-08-13T14:52:03.607429Z",
     "shell.execute_reply.started": "2023-08-13T14:52:03.596190Z"
    }
   },
   "outputs": [],
   "source": [
    "# Define the parameter grid for XGBoost\n",
    "params = {\n",
    "    'max_depth': (3, 10),\n",
    "    'learning_rate': (0.01, 0.2),\n",
    "    'n_estimators': (400, 500),\n",
    "    'subsample': (0.5, 1.0),\n",
    "    'colsample_bytree': (0.5, 1.0),\n",
    "    'reg_alpha': (0, 1),\n",
    "    'reg_lambda': (0, 1)\n",
    "}"
   ]
  },
  {
   "cell_type": "code",
   "execution_count": 15,
   "id": "efa302fb-a12a-4030-8d9b-8ef51b3e39bd",
   "metadata": {
    "execution": {
     "iopub.execute_input": "2023-08-13T14:52:03.612688Z",
     "iopub.status.busy": "2023-08-13T14:52:03.611528Z",
     "iopub.status.idle": "2023-08-13T14:52:03.630635Z",
     "shell.execute_reply": "2023-08-13T14:52:03.628316Z",
     "shell.execute_reply.started": "2023-08-13T14:52:03.612602Z"
    }
   },
   "outputs": [],
   "source": [
    "# Log the hyperparameters to wandb.config\n",
    "wandb.config.update(params)"
   ]
  },
  {
   "cell_type": "code",
   "execution_count": 16,
   "id": "baacdfae-30b2-402e-82df-193f5dc4ca3b",
   "metadata": {
    "execution": {
     "iopub.execute_input": "2023-08-13T14:52:03.633197Z",
     "iopub.status.busy": "2023-08-13T14:52:03.632611Z",
     "iopub.status.idle": "2023-08-13T14:52:03.665011Z",
     "shell.execute_reply": "2023-08-13T14:52:03.662623Z",
     "shell.execute_reply.started": "2023-08-13T14:52:03.633145Z"
    }
   },
   "outputs": [],
   "source": [
    "# Create an instance of BayesianSearchCV\n",
    "bayes_cv = BayesSearchCV(xgb_classifier, params, n_iter=20, cv=cv, n_jobs=-1)"
   ]
  },
  {
   "cell_type": "code",
   "execution_count": null,
   "id": "9465a75a-401c-46f0-9fc4-fe22307f2ea1",
   "metadata": {
    "execution": {
     "iopub.execute_input": "2023-08-13T14:52:03.667776Z",
     "iopub.status.busy": "2023-08-13T14:52:03.667156Z"
    }
   },
   "outputs": [],
   "source": [
    "# Perform hyperparameter tuning using Bayesian optimization\n",
    "bayes_cv.fit(X_train, np.ravel(y_train))"
   ]
  },
  {
   "cell_type": "code",
   "execution_count": null,
   "id": "d45223a3-949a-4733-b25d-82ae29b43826",
   "metadata": {},
   "outputs": [],
   "source": [
    "# Print the best score and hyperparameters\n",
    "print(\"Train score:\", bayes_cv.best_score_)\n",
    "print(\"Test score:\", bayes_cv.score(X_test, y_test))\n",
    "print(\"Best hyperparameters:\", bayes_cv.best_params_)"
   ]
  },
  {
   "cell_type": "code",
   "execution_count": null,
   "id": "7e9c5de0-3afc-49f3-a47e-75eaadf9caa6",
   "metadata": {},
   "outputs": [],
   "source": [
    "# Log the best score and hyperparameters\n",
    "wandb.log({\"Train score\": bayes_cv.best_score_})\n",
    "wandb.log({\"Test score\": bayes_cv.score(X_test, y_test)})\n",
    "wandb.log({\"Best hyperparameters\": bayes_cv.best_params_})"
   ]
  },
  {
   "cell_type": "code",
   "execution_count": null,
   "id": "0857d032-2db9-4894-b6f6-e400cbc7a876",
   "metadata": {},
   "outputs": [],
   "source": [
    "wandb.finish()"
   ]
  },
  {
   "cell_type": "code",
   "execution_count": null,
   "id": "9557faac-0231-41f6-ada5-256610d69076",
   "metadata": {},
   "outputs": [],
   "source": []
  }
 ],
 "metadata": {
  "kernelspec": {
   "display_name": "Python 3.9 (py39)",
   "language": "python",
   "name": "py39"
  },
  "language_info": {
   "codemirror_mode": {
    "name": "ipython",
    "version": 3
   },
   "file_extension": ".py",
   "mimetype": "text/x-python",
   "name": "python",
   "nbconvert_exporter": "python",
   "pygments_lexer": "ipython3",
   "version": "3.9.13"
  }
 },
 "nbformat": 4,
 "nbformat_minor": 5
}
