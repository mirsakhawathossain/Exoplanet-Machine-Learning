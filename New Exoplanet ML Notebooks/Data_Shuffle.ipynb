{
 "cells": [
  {
   "cell_type": "code",
   "execution_count": 1,
   "id": "fcbc63b3-c30c-4c4b-a01c-b55d05cbc652",
   "metadata": {},
   "outputs": [],
   "source": [
    "import requests\n",
    "import pandas as pd\n",
    "from sklearn.utils import shuffle"
   ]
  },
  {
   "cell_type": "code",
   "execution_count": 2,
   "id": "67a196db-1853-4f04-b0ec-d3e7d70e62c0",
   "metadata": {},
   "outputs": [],
   "source": [
    "chunk_size = 10 ** 6\n",
    "file_url = 'https://gitlab.com/mirsakhawathossain/new-dataset/-/raw/main/Final_Dataset/exodata_big.csv'\n",
    "local_file_path = 'exodata_big.csv'"
   ]
  },
  {
   "cell_type": "code",
   "execution_count": 3,
   "id": "6e6ef55a-2dde-418c-aa9e-bf7580f077ef",
   "metadata": {},
   "outputs": [],
   "source": [
    "# Download the file locally\n",
    "response = requests.get(file_url, stream=True)\n",
    "response.raise_for_status()"
   ]
  },
  {
   "cell_type": "code",
   "execution_count": 4,
   "id": "192c4120-ccd3-4f94-98f7-4bd5dca6a532",
   "metadata": {},
   "outputs": [],
   "source": [
    "with open(local_file_path, 'wb') as file:\n",
    "    for chunk in response.iter_content(chunk_size=8192):\n",
    "        file.write(chunk)"
   ]
  },
  {
   "cell_type": "code",
   "execution_count": null,
   "id": "3b9f1ca8-b924-4dc6-9446-5df7a0309e1c",
   "metadata": {},
   "outputs": [],
   "source": [
    "# Read the file in smaller chunks\n",
    "chunks = []\n",
    "for chunk in pd.read_csv(local_file_path, chunksize=chunk_size):\n",
    "    # Fill missing values with column medians\n",
    "    for column in chunk.columns:\n",
    "        chunk[column].fillna(chunk[column].median(), inplace=True)\n",
    "    chunks.append(chunk)"
   ]
  },
  {
   "cell_type": "code",
   "execution_count": null,
   "id": "d9763435-d175-4b9d-a5e2-0b5377c65e64",
   "metadata": {},
   "outputs": [],
   "source": [
    "# Concatenate the chunks into a single DataFrame\n",
    "data = pd.concat(chunks, ignore_index=True)"
   ]
  },
  {
   "cell_type": "code",
   "execution_count": null,
   "id": "1120f449-b578-4b65-953e-a98bf6c06419",
   "metadata": {},
   "outputs": [],
   "source": [
    "# Shuffle the DataFrame\n",
    "data_shuffled = shuffle(data, random_state=1)\n"
   ]
  },
  {
   "cell_type": "code",
   "execution_count": null,
   "id": "d29c2ca6-9e67-4ba2-8d2b-1a6c6b8fb085",
   "metadata": {},
   "outputs": [],
   "source": [
    "# Find columns with only 0 or 1 values\n",
    "columns_to_drop = []\n",
    "for column in data_shuffled.columns:\n",
    "    if column != \"exoplanet\":\n",
    "        unique_values = data_shuffled[column].unique()\n",
    "        if len(unique_values) == 1 or (len(unique_values) == 2 and 0 in unique_values and 1 in unique_values):\n",
    "            columns_to_drop.append(column)"
   ]
  },
  {
   "cell_type": "code",
   "execution_count": null,
   "id": "fde53823-97e4-4c75-9706-a3fc3353eba1",
   "metadata": {},
   "outputs": [],
   "source": [
    "# Drop the identified columns\n",
    "df_filtered = data_shuffled.drop(columns=columns_to_drop)\n"
   ]
  },
  {
   "cell_type": "code",
   "execution_count": null,
   "id": "0534419a-a36f-4b6c-bf15-42e84d343785",
   "metadata": {},
   "outputs": [],
   "source": [
    "# Save DataFrame as Target\n",
    "df_filtered.to_csv('exp_data.csv', index=False)"
   ]
  },
  {
   "cell_type": "code",
   "execution_count": null,
   "id": "44072340-e826-424e-a88c-b0e22d3a6005",
   "metadata": {},
   "outputs": [],
   "source": []
  },
  {
   "cell_type": "code",
   "execution_count": 1,
   "id": "fe7cca4c-6d0a-452b-8308-40a45ddce0f7",
   "metadata": {},
   "outputs": [],
   "source": [
    "# Second Way for Data Shuffle"
   ]
  },
  {
   "cell_type": "code",
   "execution_count": 2,
   "id": "043b93ca-d988-4116-bc5a-4eeaba127ea8",
   "metadata": {},
   "outputs": [],
   "source": [
    "import pandas as pd\n",
    "import numpy as np"
   ]
  },
  {
   "cell_type": "code",
   "execution_count": 2,
   "id": "00bc9a4e-e585-4c7d-ae83-000e0798dcc4",
   "metadata": {},
   "outputs": [],
   "source": [
    "data = pd.read_csv('exodata_big.csv',low_memory=False,memory_map=True).sort_index(axis=0)"
   ]
  },
  {
   "cell_type": "code",
   "execution_count": 3,
   "id": "69fa48b3-a602-4f01-9c7c-8deceeec86c4",
   "metadata": {},
   "outputs": [],
   "source": [
    "# Fill missing values with median of each column\n",
    "for column in data.columns:\n",
    "    data[column].fillna(data[column].median(), inplace=True)"
   ]
  },
  {
   "cell_type": "code",
   "execution_count": 7,
   "id": "579c9209-2830-4848-830e-d62d36931b4d",
   "metadata": {},
   "outputs": [],
   "source": [
    "from sklearn.utils import shuffle"
   ]
  },
  {
   "cell_type": "code",
   "execution_count": 8,
   "id": "8751b6ac-0ea2-4f65-a5a8-eb2fe7dd97e3",
   "metadata": {},
   "outputs": [],
   "source": [
    "data_shuffled = shuffle(data, random_state=1)"
   ]
  },
  {
   "cell_type": "code",
   "execution_count": 9,
   "id": "30d82660-2e3c-41a4-a933-0139fdc89238",
   "metadata": {},
   "outputs": [],
   "source": [
    "# Find columns with only 0 or 1 values\n",
    "columns_to_drop = []\n",
    "for column in data_shuffled.columns:\n",
    "    if column != \"exoplanet\":\n",
    "        unique_values = data_shuffled[column].unique()\n",
    "        if len(unique_values) == 1 or (len(unique_values) == 2 and 0 in unique_values and 1 in unique_values):\n",
    "            columns_to_drop.append(column)\n",
    "\n",
    "# Drop the identified columns\n",
    "df_filtered = data_shuffled.drop(columns=columns_to_drop)"
   ]
  },
  {
   "cell_type": "code",
   "execution_count": 10,
   "id": "e34d7d28-aa18-4f73-809a-53e94925affc",
   "metadata": {},
   "outputs": [],
   "source": [
    "# Save DataFrame as Target\n",
    "df_filtered.to_csv('exp_data.csv', index=False)"
   ]
  },
  {
   "cell_type": "code",
   "execution_count": null,
   "id": "d486a1fb-be48-498e-9ce5-ebc81b74d6ed",
   "metadata": {},
   "outputs": [],
   "source": [
    "dat = pd.read_csv('exp_data.csv').sort_index(axis=0)"
   ]
  },
  {
   "cell_type": "code",
   "execution_count": null,
   "id": "8c007d55-e20a-4ecf-9deb-92e678a98611",
   "metadata": {},
   "outputs": [],
   "source": [
    "dat.head(5)"
   ]
  },
  {
   "cell_type": "code",
   "execution_count": 5,
   "id": "d29f7981-fbce-466c-97f3-429afef27160",
   "metadata": {},
   "outputs": [
    {
     "name": "stdout",
     "output_type": "stream",
     "text": [
      "https://transfer.sh/gseyPprMpr/exp_data.csv"
     ]
    }
   ],
   "source": [
    "!curl --upload-file ./exp_data.csv https://transfer.sh/exp_data.csv"
   ]
  },
  {
   "cell_type": "code",
   "execution_count": 3,
   "id": "f12d6754-fa1a-48d6-8632-b3f5f4cd491a",
   "metadata": {},
   "outputs": [],
   "source": [
    "data = pd.read_csv('https://gitlab.com/mirsakhawathossain/new-dataset/-/raw/main/Final_Dataset/exodata.csv').sort_index(axis=0)"
   ]
  },
  {
   "cell_type": "code",
   "execution_count": 4,
   "id": "3b6a1a35-14d4-47f2-b053-398f526d069d",
   "metadata": {},
   "outputs": [
    {
     "data": {
      "text/html": [
       "<div>\n",
       "<style scoped>\n",
       "    .dataframe tbody tr th:only-of-type {\n",
       "        vertical-align: middle;\n",
       "    }\n",
       "\n",
       "    .dataframe tbody tr th {\n",
       "        vertical-align: top;\n",
       "    }\n",
       "\n",
       "    .dataframe thead th {\n",
       "        text-align: right;\n",
       "    }\n",
       "</style>\n",
       "<table border=\"1\" class=\"dataframe\">\n",
       "  <thead>\n",
       "    <tr style=\"text-align: right;\">\n",
       "      <th></th>\n",
       "      <th>0__has_duplicate_max</th>\n",
       "      <th>0__has_duplicate_min</th>\n",
       "      <th>0__has_duplicate</th>\n",
       "      <th>0__sum_values</th>\n",
       "      <th>0__abs_energy</th>\n",
       "      <th>0__mean_abs_change</th>\n",
       "      <th>0__mean_change</th>\n",
       "      <th>0__mean_second_derivative_central</th>\n",
       "      <th>0__median</th>\n",
       "      <th>0__mean</th>\n",
       "      <th>...</th>\n",
       "      <th>0__fourier_entropy__bins_5</th>\n",
       "      <th>0__fourier_entropy__bins_10</th>\n",
       "      <th>0__fourier_entropy__bins_100</th>\n",
       "      <th>0__permutation_entropy__dimension_3__tau_1</th>\n",
       "      <th>0__permutation_entropy__dimension_4__tau_1</th>\n",
       "      <th>0__permutation_entropy__dimension_5__tau_1</th>\n",
       "      <th>0__permutation_entropy__dimension_6__tau_1</th>\n",
       "      <th>0__permutation_entropy__dimension_7__tau_1</th>\n",
       "      <th>0__mean_n_absolute_max__number_of_maxima_7</th>\n",
       "      <th>exoplanet</th>\n",
       "    </tr>\n",
       "  </thead>\n",
       "  <tbody>\n",
       "    <tr>\n",
       "      <th>0</th>\n",
       "      <td>0.0</td>\n",
       "      <td>0.0</td>\n",
       "      <td>1.0</td>\n",
       "      <td>2.064484e+08</td>\n",
       "      <td>9.087643e+13</td>\n",
       "      <td>49.472137</td>\n",
       "      <td>-1.596880</td>\n",
       "      <td>0.233340</td>\n",
       "      <td>440294.340</td>\n",
       "      <td>440188.539467</td>\n",
       "      <td>...</td>\n",
       "      <td>0.170467</td>\n",
       "      <td>0.226363</td>\n",
       "      <td>0.683850</td>\n",
       "      <td>1.731587</td>\n",
       "      <td>2.948862</td>\n",
       "      <td>4.207599</td>\n",
       "      <td>5.161319</td>\n",
       "      <td>5.692017</td>\n",
       "      <td>440732.865714</td>\n",
       "      <td>1</td>\n",
       "    </tr>\n",
       "    <tr>\n",
       "      <th>1</th>\n",
       "      <td>0.0</td>\n",
       "      <td>0.0</td>\n",
       "      <td>1.0</td>\n",
       "      <td>4.033714e+07</td>\n",
       "      <td>3.469264e+12</td>\n",
       "      <td>11.189566</td>\n",
       "      <td>-0.061365</td>\n",
       "      <td>0.013920</td>\n",
       "      <td>86008.328</td>\n",
       "      <td>86006.694215</td>\n",
       "      <td>...</td>\n",
       "      <td>0.589282</td>\n",
       "      <td>0.987024</td>\n",
       "      <td>3.059897</td>\n",
       "      <td>1.784421</td>\n",
       "      <td>3.140410</td>\n",
       "      <td>4.650275</td>\n",
       "      <td>5.755482</td>\n",
       "      <td>6.079708</td>\n",
       "      <td>86037.216571</td>\n",
       "      <td>1</td>\n",
       "    </tr>\n",
       "    <tr>\n",
       "      <th>2</th>\n",
       "      <td>0.0</td>\n",
       "      <td>0.0</td>\n",
       "      <td>1.0</td>\n",
       "      <td>2.356355e+08</td>\n",
       "      <td>1.183882e+14</td>\n",
       "      <td>31.821496</td>\n",
       "      <td>-0.043205</td>\n",
       "      <td>-0.006702</td>\n",
       "      <td>502421.660</td>\n",
       "      <td>502421.010704</td>\n",
       "      <td>...</td>\n",
       "      <td>0.822180</td>\n",
       "      <td>1.484769</td>\n",
       "      <td>3.485233</td>\n",
       "      <td>1.787237</td>\n",
       "      <td>3.155666</td>\n",
       "      <td>4.653332</td>\n",
       "      <td>5.759202</td>\n",
       "      <td>6.072590</td>\n",
       "      <td>502495.228571</td>\n",
       "      <td>1</td>\n",
       "    </tr>\n",
       "    <tr>\n",
       "      <th>3</th>\n",
       "      <td>0.0</td>\n",
       "      <td>0.0</td>\n",
       "      <td>1.0</td>\n",
       "      <td>1.542565e+08</td>\n",
       "      <td>5.073574e+13</td>\n",
       "      <td>20.735256</td>\n",
       "      <td>0.017564</td>\n",
       "      <td>-0.000428</td>\n",
       "      <td>328907.410</td>\n",
       "      <td>328905.047953</td>\n",
       "      <td>...</td>\n",
       "      <td>0.090729</td>\n",
       "      <td>0.136002</td>\n",
       "      <td>0.136002</td>\n",
       "      <td>1.788031</td>\n",
       "      <td>3.154802</td>\n",
       "      <td>4.640576</td>\n",
       "      <td>5.760329</td>\n",
       "      <td>6.089821</td>\n",
       "      <td>329106.067143</td>\n",
       "      <td>1</td>\n",
       "    </tr>\n",
       "    <tr>\n",
       "      <th>4</th>\n",
       "      <td>0.0</td>\n",
       "      <td>0.0</td>\n",
       "      <td>1.0</td>\n",
       "      <td>6.463351e+07</td>\n",
       "      <td>8.907230e+12</td>\n",
       "      <td>13.109850</td>\n",
       "      <td>0.032970</td>\n",
       "      <td>0.038822</td>\n",
       "      <td>137811.190</td>\n",
       "      <td>137811.322132</td>\n",
       "      <td>...</td>\n",
       "      <td>0.641543</td>\n",
       "      <td>1.172295</td>\n",
       "      <td>3.166886</td>\n",
       "      <td>1.791362</td>\n",
       "      <td>3.152715</td>\n",
       "      <td>4.640313</td>\n",
       "      <td>5.736220</td>\n",
       "      <td>6.063607</td>\n",
       "      <td>137844.580000</td>\n",
       "      <td>1</td>\n",
       "    </tr>\n",
       "  </tbody>\n",
       "</table>\n",
       "<p>5 rows × 741 columns</p>\n",
       "</div>"
      ],
      "text/plain": [
       "   0__has_duplicate_max  0__has_duplicate_min  0__has_duplicate  \\\n",
       "0                   0.0                   0.0               1.0   \n",
       "1                   0.0                   0.0               1.0   \n",
       "2                   0.0                   0.0               1.0   \n",
       "3                   0.0                   0.0               1.0   \n",
       "4                   0.0                   0.0               1.0   \n",
       "\n",
       "   0__sum_values  0__abs_energy  0__mean_abs_change  0__mean_change  \\\n",
       "0   2.064484e+08   9.087643e+13           49.472137       -1.596880   \n",
       "1   4.033714e+07   3.469264e+12           11.189566       -0.061365   \n",
       "2   2.356355e+08   1.183882e+14           31.821496       -0.043205   \n",
       "3   1.542565e+08   5.073574e+13           20.735256        0.017564   \n",
       "4   6.463351e+07   8.907230e+12           13.109850        0.032970   \n",
       "\n",
       "   0__mean_second_derivative_central   0__median        0__mean  ...  \\\n",
       "0                           0.233340  440294.340  440188.539467  ...   \n",
       "1                           0.013920   86008.328   86006.694215  ...   \n",
       "2                          -0.006702  502421.660  502421.010704  ...   \n",
       "3                          -0.000428  328907.410  328905.047953  ...   \n",
       "4                           0.038822  137811.190  137811.322132  ...   \n",
       "\n",
       "   0__fourier_entropy__bins_5  0__fourier_entropy__bins_10  \\\n",
       "0                    0.170467                     0.226363   \n",
       "1                    0.589282                     0.987024   \n",
       "2                    0.822180                     1.484769   \n",
       "3                    0.090729                     0.136002   \n",
       "4                    0.641543                     1.172295   \n",
       "\n",
       "   0__fourier_entropy__bins_100  0__permutation_entropy__dimension_3__tau_1  \\\n",
       "0                      0.683850                                    1.731587   \n",
       "1                      3.059897                                    1.784421   \n",
       "2                      3.485233                                    1.787237   \n",
       "3                      0.136002                                    1.788031   \n",
       "4                      3.166886                                    1.791362   \n",
       "\n",
       "   0__permutation_entropy__dimension_4__tau_1  \\\n",
       "0                                    2.948862   \n",
       "1                                    3.140410   \n",
       "2                                    3.155666   \n",
       "3                                    3.154802   \n",
       "4                                    3.152715   \n",
       "\n",
       "   0__permutation_entropy__dimension_5__tau_1  \\\n",
       "0                                    4.207599   \n",
       "1                                    4.650275   \n",
       "2                                    4.653332   \n",
       "3                                    4.640576   \n",
       "4                                    4.640313   \n",
       "\n",
       "   0__permutation_entropy__dimension_6__tau_1  \\\n",
       "0                                    5.161319   \n",
       "1                                    5.755482   \n",
       "2                                    5.759202   \n",
       "3                                    5.760329   \n",
       "4                                    5.736220   \n",
       "\n",
       "   0__permutation_entropy__dimension_7__tau_1  \\\n",
       "0                                    5.692017   \n",
       "1                                    6.079708   \n",
       "2                                    6.072590   \n",
       "3                                    6.089821   \n",
       "4                                    6.063607   \n",
       "\n",
       "   0__mean_n_absolute_max__number_of_maxima_7  exoplanet  \n",
       "0                               440732.865714          1  \n",
       "1                                86037.216571          1  \n",
       "2                               502495.228571          1  \n",
       "3                               329106.067143          1  \n",
       "4                               137844.580000          1  \n",
       "\n",
       "[5 rows x 741 columns]"
      ]
     },
     "execution_count": 4,
     "metadata": {},
     "output_type": "execute_result"
    }
   ],
   "source": [
    "data.head()"
   ]
  },
  {
   "cell_type": "code",
   "execution_count": null,
   "id": "fa267ff7-91b0-4e82-8433-648653e8cdef",
   "metadata": {},
   "outputs": [],
   "source": []
  }
 ],
 "metadata": {
  "kernelspec": {
   "display_name": "Python 3",
   "language": "python",
   "name": "python3"
  },
  "language_info": {
   "codemirror_mode": {
    "name": "ipython",
    "version": 3
   },
   "file_extension": ".py",
   "mimetype": "text/x-python",
   "name": "python",
   "nbconvert_exporter": "python",
   "pygments_lexer": "ipython3",
   "version": "3.10.13"
  }
 },
 "nbformat": 4,
 "nbformat_minor": 5
}
