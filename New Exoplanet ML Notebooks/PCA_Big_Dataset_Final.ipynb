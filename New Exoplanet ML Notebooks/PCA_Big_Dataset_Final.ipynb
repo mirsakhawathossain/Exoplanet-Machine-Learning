{
 "cells": [
  {
   "cell_type": "code",
   "execution_count": 1,
   "id": "6f2ba058-77b8-42f8-b5f7-226b42496716",
   "metadata": {
    "tags": []
   },
   "outputs": [],
   "source": [
    "import pandas as pd\n",
    "import numpy as np"
   ]
  },
  {
   "cell_type": "code",
   "execution_count": 2,
   "id": "cd476d17-4b07-4bba-a221-610bd02b8903",
   "metadata": {},
   "outputs": [],
   "source": [
    "data = pd.read_csv('exp_data.csv').sort_index(axis=0)"
   ]
  },
  {
   "cell_type": "code",
   "execution_count": 3,
   "id": "ec83b7ee-d79c-4f1c-bd27-b267a1b5bb2c",
   "metadata": {},
   "outputs": [],
   "source": [
    "X = data.drop(['exoplanet'],axis=1)"
   ]
  },
  {
   "cell_type": "code",
   "execution_count": 4,
   "id": "a9bc8c37-e78a-4119-8266-5d6ddc4fe73e",
   "metadata": {},
   "outputs": [],
   "source": [
    "y = data[['exoplanet']]"
   ]
  },
  {
   "cell_type": "code",
   "execution_count": 5,
   "id": "2b6fa7d8-b0ce-4996-b0a6-0507b3c23b3c",
   "metadata": {},
   "outputs": [],
   "source": [
    "from sklearn.model_selection import train_test_split"
   ]
  },
  {
   "cell_type": "code",
   "execution_count": 6,
   "id": "403b469d-51ba-4183-9c9c-9d9722a856f7",
   "metadata": {},
   "outputs": [],
   "source": [
    "X_train, X_test, y_train, y_test = train_test_split(X, y, test_size=0.4, random_state=43,stratify=y)"
   ]
  },
  {
   "cell_type": "code",
   "execution_count": 7,
   "id": "4dfa56c0-91e4-4f13-bf46-a7eefe0d9a98",
   "metadata": {},
   "outputs": [],
   "source": [
    "# Convert DataFrame to NumPy array\n",
    "y_train = y_train.to_numpy()\n",
    "y_test = y_test.to_numpy()\n",
    "# Save NumPy array as npy file\n",
    "np.save('y_train.npy', y_train)\n",
    "np.save('y_test.npy', y_test)"
   ]
  },
  {
   "cell_type": "code",
   "execution_count": 8,
   "id": "d5d34c81-170f-4148-bdd8-24133ed6f030",
   "metadata": {
    "tags": []
   },
   "outputs": [],
   "source": [
    "from sklearn.preprocessing import RobustScaler\n",
    "rs = RobustScaler()"
   ]
  },
  {
   "cell_type": "code",
   "execution_count": 9,
   "id": "88726709-d08c-4beb-ba77-f29d02be27e7",
   "metadata": {},
   "outputs": [],
   "source": [
    "X_train = rs.fit_transform(X_train)\n",
    "X_test = rs.transform(X_test)"
   ]
  },
  {
   "cell_type": "code",
   "execution_count": 10,
   "id": "63a81823-03a8-4775-b4e4-fd23e025cff9",
   "metadata": {},
   "outputs": [],
   "source": [
    "# Save NumPy array as npy file\n",
    "#np.save('X_test.npy', X_test)"
   ]
  },
  {
   "cell_type": "code",
   "execution_count": 11,
   "id": "c38cff27-9a40-44be-bd8c-8450cc287425",
   "metadata": {
    "tags": []
   },
   "outputs": [],
   "source": [
    "from sklearn.decomposition import PCA\n",
    "n_components = 740"
   ]
  },
  {
   "cell_type": "code",
   "execution_count": 12,
   "id": "ce3073f6-4d10-4ac6-9809-45328380f37f",
   "metadata": {
    "tags": []
   },
   "outputs": [],
   "source": [
    "# Create an instance of PCA\n",
    "pca = PCA(n_components=n_components)"
   ]
  },
  {
   "cell_type": "code",
   "execution_count": 13,
   "id": "f4f45ade-4e93-4949-81a3-0aaf8a087654",
   "metadata": {},
   "outputs": [
    {
     "data": {
      "text/plain": [
       "PCA(n_components=740)"
      ]
     },
     "execution_count": 13,
     "metadata": {},
     "output_type": "execute_result"
    }
   ],
   "source": [
    "# Perform PCA on the data\n",
    "pca.fit(X_train)"
   ]
  },
  {
   "cell_type": "code",
   "execution_count": 14,
   "id": "40d47301-10d8-4601-942a-b0728b754d14",
   "metadata": {},
   "outputs": [],
   "source": [
    "# Transform the data using the learned components\n",
    "transformed_data = pca.transform(X_train)\n",
    "# Save NumPy array as npy file\n",
    "np.save('X_train_pca.npy', transformed_data)"
   ]
  },
  {
   "cell_type": "code",
   "execution_count": 15,
   "id": "85740130-a69a-4eb7-9f8b-0cf1986cfac5",
   "metadata": {},
   "outputs": [],
   "source": [
    "# Transform the data using the learned components\n",
    "transformed_data = pca.transform(X_test)\n",
    "# Save NumPy array as npy file\n",
    "np.save('X_test_pca.npy', transformed_data)"
   ]
  },
  {
   "cell_type": "code",
   "execution_count": 16,
   "id": "0f7749e5-066a-4ce2-b233-29c5e3becf83",
   "metadata": {},
   "outputs": [],
   "source": [
    "# Save DataFrame as Target\n",
    "#data_array = df_filtered[['exoplanet']].to_numpy()\n",
    "#df_filtered[['exoplanet']].to_csv('/home/idies/workspace/Storage/s.hossain18/Permanent/PCA_Robust/data_target.csv', index=False)"
   ]
  },
  {
   "cell_type": "code",
   "execution_count": null,
   "id": "a9620c4d-8977-4b3b-8154-ca31cec1ec21",
   "metadata": {},
   "outputs": [],
   "source": []
  },
  {
   "cell_type": "code",
   "execution_count": null,
   "id": "417d087a-af92-4899-b1e2-12ecf68bfeac",
   "metadata": {},
   "outputs": [],
   "source": []
  },
  {
   "cell_type": "code",
   "execution_count": null,
   "id": "d6a35aca-57bb-4bf2-b669-587c5a2c7373",
   "metadata": {},
   "outputs": [],
   "source": []
  },
  {
   "cell_type": "code",
   "execution_count": 17,
   "id": "6736930c-af62-47a7-b877-da08f526dd11",
   "metadata": {},
   "outputs": [],
   "source": [
    "import pandas as pd"
   ]
  },
  {
   "cell_type": "code",
   "execution_count": null,
   "id": "8830f210-1214-47ec-8983-64208f8b0187",
   "metadata": {},
   "outputs": [],
   "source": [
    "data = pd.read_csv('exp_data.csv').sort_index(axis=0)"
   ]
  },
  {
   "cell_type": "code",
   "execution_count": null,
   "id": "c9cb407f-e209-46cc-b563-8e3ab40ec22e",
   "metadata": {},
   "outputs": [],
   "source": [
    "data.head(5)"
   ]
  },
  {
   "cell_type": "code",
   "execution_count": null,
   "id": "91e4a24b-d7b1-4b58-958d-0e4dd90709fd",
   "metadata": {},
   "outputs": [],
   "source": [
    "data.isnull().values.any()"
   ]
  },
  {
   "cell_type": "code",
   "execution_count": null,
   "id": "db76c79c-9c5f-46c4-8a69-000f7645340c",
   "metadata": {},
   "outputs": [],
   "source": []
  }
 ],
 "metadata": {
  "kernelspec": {
   "display_name": "Python 3",
   "language": "python",
   "name": "python3"
  },
  "language_info": {
   "codemirror_mode": {
    "name": "ipython",
    "version": 3
   },
   "file_extension": ".py",
   "mimetype": "text/x-python",
   "name": "python",
   "nbconvert_exporter": "python",
   "pygments_lexer": "ipython3",
   "version": "3.8.8"
  }
 },
 "nbformat": 4,
 "nbformat_minor": 5
}
