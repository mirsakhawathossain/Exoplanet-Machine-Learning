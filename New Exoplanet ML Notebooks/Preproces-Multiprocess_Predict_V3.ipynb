{
 "cells": [
  {
   "cell_type": "code",
   "execution_count": null,
   "id": "488a9948",
   "metadata": {
    "tags": []
   },
   "outputs": [],
   "source": [
    "#!cd /home/idies/workspace/Temporary/s.hossain18/scratch/data-extract && git pull"
   ]
  },
  {
   "cell_type": "code",
   "execution_count": null,
   "id": "194544ec",
   "metadata": {},
   "outputs": [],
   "source": [
    "#import sys\n",
    "#!{sys.executable} -m pip install astropy"
   ]
  },
  {
   "cell_type": "code",
   "execution_count": null,
   "id": "2e34e937",
   "metadata": {
    "tags": []
   },
   "outputs": [],
   "source": [
    "import sys\n",
    "!{sys.executable} -m pip install astropy==5.2.2"
   ]
  },
  {
   "cell_type": "code",
   "execution_count": null,
   "id": "692e05ab",
   "metadata": {
    "tags": []
   },
   "outputs": [],
   "source": [
    "import sys\n",
    "!{sys.executable} -m pip install tsfresh"
   ]
  },
  {
   "cell_type": "code",
   "execution_count": 2,
   "id": "a8fab22c-5130-45b1-a7cd-645bb613333c",
   "metadata": {
    "execution": {
     "iopub.execute_input": "2024-08-27T06:51:43.023315Z",
     "iopub.status.busy": "2024-08-27T06:51:43.022312Z",
     "iopub.status.idle": "2024-08-27T07:16:34.198503Z",
     "shell.execute_reply": "2024-08-27T07:16:34.195838Z",
     "shell.execute_reply.started": "2024-08-27T06:51:43.023202Z"
    }
   },
   "outputs": [
    {
     "name": "stderr",
     "output_type": "stream",
     "text": [
      "Feature Extraction: 100% 16/16 [02:26<00:00,  9.14s/it]\n",
      "Feature Extraction: 100% 17/17 [01:34<00:00,  5.59s/it]\n",
      "Feature Extraction: 100% 30/30 [20:04<00:00, 40.14s/it] \n"
     ]
    }
   ],
   "source": [
    "# Correct code\n",
    "from tsfresh import extract_features\n",
    "from tsfresh.utilities.dataframe_functions import impute\n",
    "from tsfresh.feature_extraction import EfficientFCParameters\n",
    "from tsfresh.utilities.distribution import MultiprocessingDistributor\n",
    "\n",
    "import os\n",
    "import glob\n",
    "from astropy.table import Table\n",
    "import pandas as pd\n",
    "#from tsfresh import extract_features\n",
    "# Set the working directory\n",
    "os.chdir(\"/home/idies/workspace/Storage/s.hossain18/Permanent/Classification_Report/Experiment\")\n",
    "#os.chdir(\"/home/idies/workspace/Storage/s.hossain18/Permanent/Data\")\n",
    "# ts fresh modules\n",
    "extraction_settings = EfficientFCParameters()\n",
    "# Find all files with a certain extension\n",
    "extension_1 = 'tbl'\n",
    "import_filenames = [i for i in glob.glob('*.{}'.format(extension_1))]\n",
    "df = pd.DataFrame()\n",
    "for f in import_filenames:\n",
    "    read = Table.read(f, format='ascii.ipac')\n",
    "    data = read.to_pandas()\n",
    "    data['kind'] = data['set']\n",
    "    # over four threads on the local machine\n",
    "    Distributor = MultiprocessingDistributor(n_workers=os.cpu_count(),disable_progressbar=False,progressbar_title=\"Feature Extraction\")\n",
    "\n",
    "    ts_data = extract_features(data, column_id='set', column_sort='TIME',column_kind='kind' , column_value='PDCSAP_FLUX', default_fc_parameters=extraction_settings,impute_function=impute,distributor=Distributor)\n",
    "    #df = df.append(ts_data)\n",
    "    # Add the filename to the 'KeplerID' column\n",
    "    ts_data['KeplerID'] = f.replace('.tbl', '')\n",
    "    df = pd.concat([df,ts_data],ignore_index=True, sort=False)\n",
    "\n",
    "# saving the dataframe\n",
    "df.drop_duplicates(keep='first', inplace=True)\n",
    "df.to_csv('/home/idies/workspace/Storage/s.hossain18/Permanent/Classification_Report/Experiment/Predict.csv', index=False)"
   ]
  },
  {
   "cell_type": "code",
   "execution_count": null,
   "id": "7e82aafc-5e2d-46b9-a8e6-eb26298c5ece",
   "metadata": {},
   "outputs": [],
   "source": []
  }
 ],
 "metadata": {
  "kernelspec": {
   "display_name": "Python 3.9 (py39)",
   "language": "python",
   "name": "py39"
  },
  "language_info": {
   "codemirror_mode": {
    "name": "ipython",
    "version": 3
   },
   "file_extension": ".py",
   "mimetype": "text/x-python",
   "name": "python",
   "nbconvert_exporter": "python",
   "pygments_lexer": "ipython3",
   "version": "3.9.13"
  }
 },
 "nbformat": 4,
 "nbformat_minor": 5
}
